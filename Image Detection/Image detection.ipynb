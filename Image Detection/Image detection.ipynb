{
  "nbformat": 4,
  "nbformat_minor": 0,
  "metadata": {
    "accelerator": "GPU",
    "colab": {
      "name": "Image Label_sapi_kuda.ipynb",
      "provenance": [],
      "collapsed_sections": [],
      "authorship_tag": "ABX9TyOrihp/1ZsY4J0BzTOk25ru",
      "include_colab_link": true
    },
    "kernelspec": {
      "display_name": "Python 3",
      "name": "python3"
    },
    "language_info": {
      "name": "python"
    }
  },
  "cells": [
    {
      "cell_type": "markdown",
      "metadata": {
        "id": "view-in-github",
        "colab_type": "text"
      },
      "source": [
        "<a href=\"https://colab.research.google.com/github/FerdiErs/Portofolio/blob/main/Image%20Detection.ipynb\" target=\"_parent\"><img src=\"https://colab.research.google.com/assets/colab-badge.svg\" alt=\"Open In Colab\"/></a>"
      ]
    },
    {
      "cell_type": "markdown",
      "metadata": {
        "id": "tsxVC2PfGAxF"
      },
      "source": [
        "Import Library"
      ]
    },
    {
      "cell_type": "code",
      "metadata": {
        "id": "zHfkiPulGEBH"
      },
      "source": [
        "import cv2\n",
        "import glob\n",
        "import matplotlib\n",
        "import matplotlib.pyplot as pltV\n",
        "import numpy as np\n",
        "from PIL import Image\n",
        "from six import BytesIO\n",
        "from pathlib import Path\n",
        "import tensorflow as tf\n",
        "%matplotlib inline"
      ],
      "execution_count": null,
      "outputs": []
    },
    {
      "cell_type": "code",
      "metadata": {
        "id": "8CCN7MJQHERj"
      },
      "source": [
        "!pip install detecto"
      ],
      "execution_count": null,
      "outputs": []
    },
    {
      "cell_type": "code",
      "metadata": {
        "id": "jAeO0iBPGZxm"
      },
      "source": [
        "import os\n",
        "from google.colab import drive\n",
        "drive.mount('/content/drive')\n",
        "os.chdir('/content/drive/My Drive/Detect01')\n"
      ],
      "execution_count": null,
      "outputs": []
    },
    {
      "cell_type": "code",
      "metadata": {
        "id": "WD5ZIy1XGpN8"
      },
      "source": [
        "import torch\n",
        "print(torch.cuda.is_available())"
      ],
      "execution_count": null,
      "outputs": []
    },
    {
      "cell_type": "code",
      "metadata": {
        "id": "l7DApZzAGRvW"
      },
      "source": [
        "from detecto import core,  utils, visualize"
      ],
      "execution_count": null,
      "outputs": []
    },
    {
      "cell_type": "code",
      "metadata": {
        "id": "_8_ZS2r3dsb1"
      },
      "source": [
        "dataset = core.Dataset('train')\n",
        "model = core.Model(['sapi','kuda']) \n",
        "\n",
        "model.fit(dataset,epochs=10, learning_rate=0.001)"
      ],
      "execution_count": null,
      "outputs": []
    },
    {
      "cell_type": "code",
      "metadata": {
        "id": "YT4BSCT0gbME"
      },
      "source": [
        "image = utils.read_image('test/OIP-AbfhzmBeUSTaTBSdx-xjzAHaF9.jpeg')\n",
        "\n",
        "predictions = model.predict(image)\n",
        "\n",
        "labels,boxes,scores = predictions\n"
      ],
      "execution_count": null,
      "outputs": []
    },
    {
      "cell_type": "code",
      "metadata": {
        "id": "IoAfb44WhMcp"
      },
      "source": [
        "visualize.show_labeled_image(image,boxes,labels)"
      ],
      "execution_count": null,
      "outputs": []
    }
  ]
}
