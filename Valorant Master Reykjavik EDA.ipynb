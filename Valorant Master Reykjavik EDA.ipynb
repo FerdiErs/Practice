{
  "nbformat": 4,
  "nbformat_minor": 0,
  "metadata": {
    "colab": {
      "name": "Untitled12.ipynb",
      "provenance": [],
      "authorship_tag": "ABX9TyOS4sTk9hRMcm8huugeumvL",
      "include_colab_link": true
    },
    "kernelspec": {
      "name": "python3",
      "display_name": "Python 3"
    },
    "language_info": {
      "name": "python"
    }
  },
  "cells": [
    {
      "cell_type": "markdown",
      "metadata": {
        "id": "view-in-github",
        "colab_type": "text"
      },
      "source": [
        "<a href=\"https://colab.research.google.com/github/FerdiErs/Portofolio/blob/main/Valorant%20Master%20Reykjavik%20EDA.ipynb\" target=\"_parent\"><img src=\"https://colab.research.google.com/assets/colab-badge.svg\" alt=\"Open In Colab\"/></a>"
      ]
    },
    {
      "cell_type": "markdown",
      "source": [
        "# Valorant Master Reykjavík Exploratory Data Analysis(EDA)"
      ],
      "metadata": {
        "id": "Vh1TYFnsOLqo"
      }
    },
    {
      "cell_type": "markdown",
      "source": [
        "Valorant is a team-based first-person hero shooter set in the near future.Players play as one of a set of Agents, characters designed based on several countries and cultures around the world.In the main game mode, players are assigned to either the attacking or defending team with each team having five players on it. Agents have unique abilities, each requiring charges, as well as a unique ultimate ability that requires charging through kills, deaths, orbs, or objectives. Every player starts each round with a \"classic\" pistol and one or more \"signature ability\" charges.Other weapons and ability charges can be purchased using an in-game economic system that awards money based on the outcome of the previous round, any kills the player is responsible for, and any objectives completed. The game has an assortment of weapons including secondary guns like sidearms and primary guns like submachine guns, shotguns, machine guns, assault rifles and sniper rifles.There are automatic and semi-automatic weapons that each have a unique shooting pattern that has to be controlled by the player to be able to shoot accurately. Different agents allow players to find more ways to plant the Spike and style on enemies with scrappers, strategists, and hunters of every description. It currently offers 16 agents to choose from. They are Brimstone, Viper, Omen, Cypher, Sova, Sage, Phoenix, Jett, Raze, Breach, Reyna, Killjoy, Skye, Yoru, Astra, KAY/O, and Chamber."
      ],
      "metadata": {
        "id": "u4zD8ogROdd2"
      }
    },
    {
      "cell_type": "markdown",
      "source": [
        "# Import library"
      ],
      "metadata": {
        "id": "QpwWuEtrOYY-"
      }
    },
    {
      "cell_type": "code",
      "source": [
        "import pandas as pd\n",
        "import numpy as np\n",
        "import matplotlib.pyplot as plt\n",
        "import matplotlib.image as mpimg\n",
        "import plotly.figure_factory as ff\n",
        "import plotly.graph_objects as go\n",
        "import plotly.express as px\n",
        "%matplotlib inline\n",
        "import seaborn as sns\n",
        "import re\n",
        "from collections import Counter"
      ],
      "metadata": {
        "id": "Mhf4yNgQNqnN"
      },
      "execution_count": 1,
      "outputs": []
    },
    {
      "cell_type": "markdown",
      "source": [
        "# Import dataset"
      ],
      "metadata": {
        "id": "GktAOeP9PCPL"
      }
    },
    {
      "cell_type": "code",
      "source": [
        "df1 = pd.read_csv('https://raw.githubusercontent.com/FerdiErs/Data-Source/main/ValorantMaster2021/player_stats.csv?token=AV6RQOXLTJTZD5BPIPL54O3BXBVQU') \n",
        "df1.head()"
      ],
      "metadata": {
        "colab": {
          "base_uri": "https://localhost:8080/",
          "height": 206
        },
        "id": "5q2okoSNNwQA",
        "outputId": "db8bf7a7-b845-4339-ae73-7aec8f083215"
      },
      "execution_count": 2,
      "outputs": [
        {
          "output_type": "execute_result",
          "data": {
            "text/html": [
              "<div>\n",
              "<style scoped>\n",
              "    .dataframe tbody tr th:only-of-type {\n",
              "        vertical-align: middle;\n",
              "    }\n",
              "\n",
              "    .dataframe tbody tr th {\n",
              "        vertical-align: top;\n",
              "    }\n",
              "\n",
              "    .dataframe thead th {\n",
              "        text-align: right;\n",
              "    }\n",
              "</style>\n",
              "<table border=\"1\" class=\"dataframe\">\n",
              "  <thead>\n",
              "    <tr style=\"text-align: right;\">\n",
              "      <th></th>\n",
              "      <th>Player</th>\n",
              "      <th>Country</th>\n",
              "      <th>Team</th>\n",
              "      <th>Agents</th>\n",
              "      <th>Maps</th>\n",
              "      <th>K</th>\n",
              "      <th>D</th>\n",
              "      <th>A</th>\n",
              "      <th>KD</th>\n",
              "      <th>KDA</th>\n",
              "      <th>ACS/Map</th>\n",
              "      <th>K/Map</th>\n",
              "      <th>D/Map</th>\n",
              "      <th>A/Map</th>\n",
              "    </tr>\n",
              "  </thead>\n",
              "  <tbody>\n",
              "    <tr>\n",
              "      <th>0</th>\n",
              "      <td>TenZ</td>\n",
              "      <td>Canada</td>\n",
              "      <td>Sentinels</td>\n",
              "      <td>['Jett', 'Reyna', 'Raze']</td>\n",
              "      <td>9</td>\n",
              "      <td>206</td>\n",
              "      <td>139</td>\n",
              "      <td>55</td>\n",
              "      <td>1.48</td>\n",
              "      <td>1.87</td>\n",
              "      <td>289</td>\n",
              "      <td>22.8</td>\n",
              "      <td>15.4</td>\n",
              "      <td>6.1</td>\n",
              "    </tr>\n",
              "    <tr>\n",
              "      <th>1</th>\n",
              "      <td>ScreaM</td>\n",
              "      <td>Belgium</td>\n",
              "      <td>Team Liquid</td>\n",
              "      <td>['Sage', 'Phoenix']</td>\n",
              "      <td>9</td>\n",
              "      <td>177</td>\n",
              "      <td>131</td>\n",
              "      <td>56</td>\n",
              "      <td>1.35</td>\n",
              "      <td>1.77</td>\n",
              "      <td>265</td>\n",
              "      <td>19.6</td>\n",
              "      <td>14.5</td>\n",
              "      <td>6.2</td>\n",
              "    </tr>\n",
              "    <tr>\n",
              "      <th>2</th>\n",
              "      <td>ShahZaM</td>\n",
              "      <td>United States</td>\n",
              "      <td>Sentinels</td>\n",
              "      <td>['Sova', 'Jett']</td>\n",
              "      <td>9</td>\n",
              "      <td>172</td>\n",
              "      <td>134</td>\n",
              "      <td>52</td>\n",
              "      <td>1.28</td>\n",
              "      <td>1.67</td>\n",
              "      <td>240</td>\n",
              "      <td>19.1</td>\n",
              "      <td>14.8</td>\n",
              "      <td>5.7</td>\n",
              "    </tr>\n",
              "    <tr>\n",
              "      <th>3</th>\n",
              "      <td>L1NK</td>\n",
              "      <td>United Kingdom</td>\n",
              "      <td>Team Liquid</td>\n",
              "      <td>['Brimstone', 'Omen']</td>\n",
              "      <td>9</td>\n",
              "      <td>147</td>\n",
              "      <td>123</td>\n",
              "      <td>57</td>\n",
              "      <td>1.19</td>\n",
              "      <td>1.65</td>\n",
              "      <td>218</td>\n",
              "      <td>16.3</td>\n",
              "      <td>13.6</td>\n",
              "      <td>6.3</td>\n",
              "    </tr>\n",
              "    <tr>\n",
              "      <th>4</th>\n",
              "      <td>Jamppi</td>\n",
              "      <td>Finland</td>\n",
              "      <td>Team Liquid</td>\n",
              "      <td>['Jett', 'Killjoy']</td>\n",
              "      <td>9</td>\n",
              "      <td>155</td>\n",
              "      <td>130</td>\n",
              "      <td>32</td>\n",
              "      <td>1.19</td>\n",
              "      <td>1.43</td>\n",
              "      <td>229</td>\n",
              "      <td>17.2</td>\n",
              "      <td>14.4</td>\n",
              "      <td>3.5</td>\n",
              "    </tr>\n",
              "  </tbody>\n",
              "</table>\n",
              "</div>"
            ],
            "text/plain": [
              "    Player         Country         Team  ... K/Map  D/Map  A/Map\n",
              "0     TenZ          Canada    Sentinels  ...  22.8   15.4    6.1\n",
              "1   ScreaM         Belgium  Team Liquid  ...  19.6   14.5    6.2\n",
              "2  ShahZaM   United States    Sentinels  ...  19.1   14.8    5.7\n",
              "3     L1NK  United Kingdom  Team Liquid  ...  16.3   13.6    6.3\n",
              "4   Jamppi         Finland  Team Liquid  ...  17.2   14.4    3.5\n",
              "\n",
              "[5 rows x 14 columns]"
            ]
          },
          "metadata": {},
          "execution_count": 2
        }
      ]
    },
    {
      "cell_type": "code",
      "source": [
        "df1.info()"
      ],
      "metadata": {
        "colab": {
          "base_uri": "https://localhost:8080/"
        },
        "id": "9qc-N23bPJBH",
        "outputId": "dea7f383-2dab-4494-83f8-a37a2e56cb5d"
      },
      "execution_count": 3,
      "outputs": [
        {
          "output_type": "stream",
          "name": "stdout",
          "text": [
            "<class 'pandas.core.frame.DataFrame'>\n",
            "RangeIndex: 50 entries, 0 to 49\n",
            "Data columns (total 14 columns):\n",
            " #   Column   Non-Null Count  Dtype  \n",
            "---  ------   --------------  -----  \n",
            " 0   Player   50 non-null     object \n",
            " 1   Country  50 non-null     object \n",
            " 2   Team     50 non-null     object \n",
            " 3   Agents   50 non-null     object \n",
            " 4   Maps     50 non-null     int64  \n",
            " 5   K        50 non-null     int64  \n",
            " 6   D        50 non-null     int64  \n",
            " 7   A        50 non-null     int64  \n",
            " 8   KD       50 non-null     float64\n",
            " 9   KDA      50 non-null     float64\n",
            " 10  ACS/Map  50 non-null     int64  \n",
            " 11  K/Map    50 non-null     float64\n",
            " 12  D/Map    50 non-null     float64\n",
            " 13  A/Map    50 non-null     float64\n",
            "dtypes: float64(5), int64(5), object(4)\n",
            "memory usage: 5.6+ KB\n"
          ]
        }
      ]
    },
    {
      "cell_type": "code",
      "source": [
        "country_from = dict(Counter(df1['Country']))\n",
        "country_from = {'Country': list(country_from.keys()), 'count': list(country_from.values())}\n",
        "\n",
        "fig_country= px.pie(country_from, values = 'count', names = 'Country', title = 'Player Country Distribution', hole = .5, color_discrete_sequence = px.colors.sequential.Agsunset)\n",
        "fig_country.show()"
      ],
      "metadata": {
        "colab": {
          "base_uri": "https://localhost:8080/",
          "height": 542
        },
        "id": "N6o5EqpwRY8x",
        "outputId": "5dcd378d-5665-4fe0-bc81-6bd4bd66b3d9"
      },
      "execution_count": 4,
      "outputs": [
        {
          "output_type": "display_data",
          "data": {
            "text/html": [
              "<html>\n",
              "<head><meta charset=\"utf-8\" /></head>\n",
              "<body>\n",
              "    <div>\n",
              "            <script src=\"https://cdnjs.cloudflare.com/ajax/libs/mathjax/2.7.5/MathJax.js?config=TeX-AMS-MML_SVG\"></script><script type=\"text/javascript\">if (window.MathJax) {MathJax.Hub.Config({SVG: {font: \"STIX-Web\"}});}</script>\n",
              "                <script type=\"text/javascript\">window.PlotlyConfig = {MathJaxConfig: 'local'};</script>\n",
              "        <script src=\"https://cdn.plot.ly/plotly-latest.min.js\"></script>    \n",
              "            <div id=\"0f96d109-bed9-4567-8dbb-47ad1dc5d194\" class=\"plotly-graph-div\" style=\"height:525px; width:100%;\"></div>\n",
              "            <script type=\"text/javascript\">\n",
              "                \n",
              "                    window.PLOTLYENV=window.PLOTLYENV || {};\n",
              "                    \n",
              "                if (document.getElementById(\"0f96d109-bed9-4567-8dbb-47ad1dc5d194\")) {\n",
              "                    Plotly.newPlot(\n",
              "                        '0f96d109-bed9-4567-8dbb-47ad1dc5d194',\n",
              "                        [{\"domain\": {\"x\": [0.0, 1.0], \"y\": [0.0, 1.0]}, \"hole\": 0.5, \"hoverlabel\": {\"namelength\": 0}, \"hovertemplate\": \"Country=%{label}<br>count=%{value}\", \"labels\": [\"Canada\", \"Belgium\", \"United States\", \"United Kingdom\", \"Finland\", \"South Korea\", \"Argentina\", \"Brazil\", \"Thailand\", \"Czech Republic\", \"Japan\", \"Croatia\", \"Chile\"], \"legendgroup\": \"\", \"name\": \"\", \"showlegend\": true, \"type\": \"pie\", \"values\": [3, 1, 7, 5, 2, 7, 3, 9, 5, 1, 3, 1, 3]}],\n",
              "                        {\"legend\": {\"tracegroupgap\": 0}, \"piecolorway\": [\"rgb(75, 41, 145)\", \"rgb(135, 44, 162)\", \"rgb(192, 54, 157)\", \"rgb(234, 79, 136)\", \"rgb(250, 120, 118)\", \"rgb(246, 169, 122)\", \"rgb(237, 217, 163)\"], \"template\": {\"data\": {\"bar\": [{\"error_x\": {\"color\": \"#2a3f5f\"}, \"error_y\": {\"color\": \"#2a3f5f\"}, \"marker\": {\"line\": {\"color\": \"#E5ECF6\", \"width\": 0.5}}, \"type\": \"bar\"}], \"barpolar\": [{\"marker\": {\"line\": {\"color\": \"#E5ECF6\", \"width\": 0.5}}, \"type\": \"barpolar\"}], \"carpet\": [{\"aaxis\": {\"endlinecolor\": \"#2a3f5f\", \"gridcolor\": \"white\", \"linecolor\": \"white\", \"minorgridcolor\": \"white\", \"startlinecolor\": \"#2a3f5f\"}, \"baxis\": {\"endlinecolor\": \"#2a3f5f\", \"gridcolor\": \"white\", \"linecolor\": \"white\", \"minorgridcolor\": \"white\", \"startlinecolor\": \"#2a3f5f\"}, \"type\": \"carpet\"}], \"choropleth\": [{\"colorbar\": {\"outlinewidth\": 0, \"ticks\": \"\"}, \"type\": \"choropleth\"}], \"contour\": [{\"colorbar\": {\"outlinewidth\": 0, \"ticks\": \"\"}, \"colorscale\": [[0.0, \"#0d0887\"], [0.1111111111111111, \"#46039f\"], [0.2222222222222222, \"#7201a8\"], [0.3333333333333333, \"#9c179e\"], [0.4444444444444444, \"#bd3786\"], [0.5555555555555556, \"#d8576b\"], [0.6666666666666666, \"#ed7953\"], [0.7777777777777778, \"#fb9f3a\"], [0.8888888888888888, \"#fdca26\"], [1.0, \"#f0f921\"]], \"type\": \"contour\"}], \"contourcarpet\": [{\"colorbar\": {\"outlinewidth\": 0, \"ticks\": \"\"}, \"type\": \"contourcarpet\"}], \"heatmap\": [{\"colorbar\": {\"outlinewidth\": 0, \"ticks\": \"\"}, \"colorscale\": [[0.0, \"#0d0887\"], [0.1111111111111111, \"#46039f\"], [0.2222222222222222, \"#7201a8\"], [0.3333333333333333, \"#9c179e\"], [0.4444444444444444, \"#bd3786\"], [0.5555555555555556, \"#d8576b\"], [0.6666666666666666, \"#ed7953\"], [0.7777777777777778, \"#fb9f3a\"], [0.8888888888888888, \"#fdca26\"], [1.0, \"#f0f921\"]], \"type\": \"heatmap\"}], \"heatmapgl\": [{\"colorbar\": {\"outlinewidth\": 0, \"ticks\": \"\"}, \"colorscale\": [[0.0, \"#0d0887\"], [0.1111111111111111, \"#46039f\"], [0.2222222222222222, \"#7201a8\"], [0.3333333333333333, \"#9c179e\"], [0.4444444444444444, \"#bd3786\"], [0.5555555555555556, \"#d8576b\"], [0.6666666666666666, \"#ed7953\"], [0.7777777777777778, \"#fb9f3a\"], [0.8888888888888888, \"#fdca26\"], [1.0, \"#f0f921\"]], \"type\": \"heatmapgl\"}], \"histogram\": [{\"marker\": {\"colorbar\": {\"outlinewidth\": 0, \"ticks\": \"\"}}, \"type\": \"histogram\"}], \"histogram2d\": [{\"colorbar\": {\"outlinewidth\": 0, \"ticks\": \"\"}, \"colorscale\": [[0.0, \"#0d0887\"], [0.1111111111111111, \"#46039f\"], [0.2222222222222222, \"#7201a8\"], [0.3333333333333333, \"#9c179e\"], [0.4444444444444444, \"#bd3786\"], [0.5555555555555556, \"#d8576b\"], [0.6666666666666666, \"#ed7953\"], [0.7777777777777778, \"#fb9f3a\"], [0.8888888888888888, \"#fdca26\"], [1.0, \"#f0f921\"]], \"type\": \"histogram2d\"}], \"histogram2dcontour\": [{\"colorbar\": {\"outlinewidth\": 0, \"ticks\": \"\"}, \"colorscale\": [[0.0, \"#0d0887\"], [0.1111111111111111, \"#46039f\"], [0.2222222222222222, \"#7201a8\"], [0.3333333333333333, \"#9c179e\"], [0.4444444444444444, \"#bd3786\"], [0.5555555555555556, \"#d8576b\"], [0.6666666666666666, \"#ed7953\"], [0.7777777777777778, \"#fb9f3a\"], [0.8888888888888888, \"#fdca26\"], [1.0, \"#f0f921\"]], \"type\": \"histogram2dcontour\"}], \"mesh3d\": [{\"colorbar\": {\"outlinewidth\": 0, \"ticks\": \"\"}, \"type\": \"mesh3d\"}], \"parcoords\": [{\"line\": {\"colorbar\": {\"outlinewidth\": 0, \"ticks\": \"\"}}, \"type\": \"parcoords\"}], \"pie\": [{\"automargin\": true, \"type\": \"pie\"}], \"scatter\": [{\"marker\": {\"colorbar\": {\"outlinewidth\": 0, \"ticks\": \"\"}}, \"type\": \"scatter\"}], \"scatter3d\": [{\"line\": {\"colorbar\": {\"outlinewidth\": 0, \"ticks\": \"\"}}, \"marker\": {\"colorbar\": {\"outlinewidth\": 0, \"ticks\": \"\"}}, \"type\": \"scatter3d\"}], \"scattercarpet\": [{\"marker\": {\"colorbar\": {\"outlinewidth\": 0, \"ticks\": \"\"}}, \"type\": \"scattercarpet\"}], \"scattergeo\": [{\"marker\": {\"colorbar\": {\"outlinewidth\": 0, \"ticks\": \"\"}}, \"type\": \"scattergeo\"}], \"scattergl\": [{\"marker\": {\"colorbar\": {\"outlinewidth\": 0, \"ticks\": \"\"}}, \"type\": \"scattergl\"}], \"scattermapbox\": [{\"marker\": {\"colorbar\": {\"outlinewidth\": 0, \"ticks\": \"\"}}, \"type\": \"scattermapbox\"}], \"scatterpolar\": [{\"marker\": {\"colorbar\": {\"outlinewidth\": 0, \"ticks\": \"\"}}, \"type\": \"scatterpolar\"}], \"scatterpolargl\": [{\"marker\": {\"colorbar\": {\"outlinewidth\": 0, \"ticks\": \"\"}}, \"type\": \"scatterpolargl\"}], \"scatterternary\": [{\"marker\": {\"colorbar\": {\"outlinewidth\": 0, \"ticks\": \"\"}}, \"type\": \"scatterternary\"}], \"surface\": [{\"colorbar\": {\"outlinewidth\": 0, \"ticks\": \"\"}, \"colorscale\": [[0.0, \"#0d0887\"], [0.1111111111111111, \"#46039f\"], [0.2222222222222222, \"#7201a8\"], [0.3333333333333333, \"#9c179e\"], [0.4444444444444444, \"#bd3786\"], [0.5555555555555556, \"#d8576b\"], [0.6666666666666666, \"#ed7953\"], [0.7777777777777778, \"#fb9f3a\"], [0.8888888888888888, \"#fdca26\"], [1.0, \"#f0f921\"]], \"type\": \"surface\"}], \"table\": [{\"cells\": {\"fill\": {\"color\": \"#EBF0F8\"}, \"line\": {\"color\": \"white\"}}, \"header\": {\"fill\": {\"color\": \"#C8D4E3\"}, \"line\": {\"color\": \"white\"}}, \"type\": \"table\"}]}, \"layout\": {\"annotationdefaults\": {\"arrowcolor\": \"#2a3f5f\", \"arrowhead\": 0, \"arrowwidth\": 1}, \"coloraxis\": {\"colorbar\": {\"outlinewidth\": 0, \"ticks\": \"\"}}, \"colorscale\": {\"diverging\": [[0, \"#8e0152\"], [0.1, \"#c51b7d\"], [0.2, \"#de77ae\"], [0.3, \"#f1b6da\"], [0.4, \"#fde0ef\"], [0.5, \"#f7f7f7\"], [0.6, \"#e6f5d0\"], [0.7, \"#b8e186\"], [0.8, \"#7fbc41\"], [0.9, \"#4d9221\"], [1, \"#276419\"]], \"sequential\": [[0.0, \"#0d0887\"], [0.1111111111111111, \"#46039f\"], [0.2222222222222222, \"#7201a8\"], [0.3333333333333333, \"#9c179e\"], [0.4444444444444444, \"#bd3786\"], [0.5555555555555556, \"#d8576b\"], [0.6666666666666666, \"#ed7953\"], [0.7777777777777778, \"#fb9f3a\"], [0.8888888888888888, \"#fdca26\"], [1.0, \"#f0f921\"]], \"sequentialminus\": [[0.0, \"#0d0887\"], [0.1111111111111111, \"#46039f\"], [0.2222222222222222, \"#7201a8\"], [0.3333333333333333, \"#9c179e\"], [0.4444444444444444, \"#bd3786\"], [0.5555555555555556, \"#d8576b\"], [0.6666666666666666, \"#ed7953\"], [0.7777777777777778, \"#fb9f3a\"], [0.8888888888888888, \"#fdca26\"], [1.0, \"#f0f921\"]]}, \"colorway\": [\"#636efa\", \"#EF553B\", \"#00cc96\", \"#ab63fa\", \"#FFA15A\", \"#19d3f3\", \"#FF6692\", \"#B6E880\", \"#FF97FF\", \"#FECB52\"], \"font\": {\"color\": \"#2a3f5f\"}, \"geo\": {\"bgcolor\": \"white\", \"lakecolor\": \"white\", \"landcolor\": \"#E5ECF6\", \"showlakes\": true, \"showland\": true, \"subunitcolor\": \"white\"}, \"hoverlabel\": {\"align\": \"left\"}, \"hovermode\": \"closest\", \"mapbox\": {\"style\": \"light\"}, \"paper_bgcolor\": \"white\", \"plot_bgcolor\": \"#E5ECF6\", \"polar\": {\"angularaxis\": {\"gridcolor\": \"white\", \"linecolor\": \"white\", \"ticks\": \"\"}, \"bgcolor\": \"#E5ECF6\", \"radialaxis\": {\"gridcolor\": \"white\", \"linecolor\": \"white\", \"ticks\": \"\"}}, \"scene\": {\"xaxis\": {\"backgroundcolor\": \"#E5ECF6\", \"gridcolor\": \"white\", \"gridwidth\": 2, \"linecolor\": \"white\", \"showbackground\": true, \"ticks\": \"\", \"zerolinecolor\": \"white\"}, \"yaxis\": {\"backgroundcolor\": \"#E5ECF6\", \"gridcolor\": \"white\", \"gridwidth\": 2, \"linecolor\": \"white\", \"showbackground\": true, \"ticks\": \"\", \"zerolinecolor\": \"white\"}, \"zaxis\": {\"backgroundcolor\": \"#E5ECF6\", \"gridcolor\": \"white\", \"gridwidth\": 2, \"linecolor\": \"white\", \"showbackground\": true, \"ticks\": \"\", \"zerolinecolor\": \"white\"}}, \"shapedefaults\": {\"line\": {\"color\": \"#2a3f5f\"}}, \"ternary\": {\"aaxis\": {\"gridcolor\": \"white\", \"linecolor\": \"white\", \"ticks\": \"\"}, \"baxis\": {\"gridcolor\": \"white\", \"linecolor\": \"white\", \"ticks\": \"\"}, \"bgcolor\": \"#E5ECF6\", \"caxis\": {\"gridcolor\": \"white\", \"linecolor\": \"white\", \"ticks\": \"\"}}, \"title\": {\"x\": 0.05}, \"xaxis\": {\"automargin\": true, \"gridcolor\": \"white\", \"linecolor\": \"white\", \"ticks\": \"\", \"title\": {\"standoff\": 15}, \"zerolinecolor\": \"white\", \"zerolinewidth\": 2}, \"yaxis\": {\"automargin\": true, \"gridcolor\": \"white\", \"linecolor\": \"white\", \"ticks\": \"\", \"title\": {\"standoff\": 15}, \"zerolinecolor\": \"white\", \"zerolinewidth\": 2}}}, \"title\": {\"text\": \"Player Country Distribution\"}},\n",
              "                        {\"responsive\": true}\n",
              "                    ).then(function(){\n",
              "                            \n",
              "var gd = document.getElementById('0f96d109-bed9-4567-8dbb-47ad1dc5d194');\n",
              "var x = new MutationObserver(function (mutations, observer) {{\n",
              "        var display = window.getComputedStyle(gd).display;\n",
              "        if (!display || display === 'none') {{\n",
              "            console.log([gd, 'removed!']);\n",
              "            Plotly.purge(gd);\n",
              "            observer.disconnect();\n",
              "        }}\n",
              "}});\n",
              "\n",
              "// Listen for the removal of the full notebook cells\n",
              "var notebookContainer = gd.closest('#notebook-container');\n",
              "if (notebookContainer) {{\n",
              "    x.observe(notebookContainer, {childList: true});\n",
              "}}\n",
              "\n",
              "// Listen for the clearing of the current output cell\n",
              "var outputEl = gd.closest('.output');\n",
              "if (outputEl) {{\n",
              "    x.observe(outputEl, {childList: true});\n",
              "}}\n",
              "\n",
              "                        })\n",
              "                };\n",
              "                \n",
              "            </script>\n",
              "        </div>\n",
              "</body>\n",
              "</html>"
            ]
          },
          "metadata": {}
        }
      ]
    },
    {
      "cell_type": "markdown",
      "source": [
        "# TOP FIVE PLAYER"
      ],
      "metadata": {
        "id": "OpI0X1NZTH_m"
      }
    },
    {
      "cell_type": "code",
      "source": [
        "top_five = df1.sort_values(by='KDA', ascending=False).head()\n",
        "top_five"
      ],
      "metadata": {
        "colab": {
          "base_uri": "https://localhost:8080/",
          "height": 206
        },
        "id": "YG6nHBnlS1PC",
        "outputId": "d0d23e5c-833e-4853-d018-3c810fcc9a36"
      },
      "execution_count": 5,
      "outputs": [
        {
          "output_type": "execute_result",
          "data": {
            "text/html": [
              "<div>\n",
              "<style scoped>\n",
              "    .dataframe tbody tr th:only-of-type {\n",
              "        vertical-align: middle;\n",
              "    }\n",
              "\n",
              "    .dataframe tbody tr th {\n",
              "        vertical-align: top;\n",
              "    }\n",
              "\n",
              "    .dataframe thead th {\n",
              "        text-align: right;\n",
              "    }\n",
              "</style>\n",
              "<table border=\"1\" class=\"dataframe\">\n",
              "  <thead>\n",
              "    <tr style=\"text-align: right;\">\n",
              "      <th></th>\n",
              "      <th>Player</th>\n",
              "      <th>Country</th>\n",
              "      <th>Team</th>\n",
              "      <th>Agents</th>\n",
              "      <th>Maps</th>\n",
              "      <th>K</th>\n",
              "      <th>D</th>\n",
              "      <th>A</th>\n",
              "      <th>KD</th>\n",
              "      <th>KDA</th>\n",
              "      <th>ACS/Map</th>\n",
              "      <th>K/Map</th>\n",
              "      <th>D/Map</th>\n",
              "      <th>A/Map</th>\n",
              "    </tr>\n",
              "  </thead>\n",
              "  <tbody>\n",
              "    <tr>\n",
              "      <th>0</th>\n",
              "      <td>TenZ</td>\n",
              "      <td>Canada</td>\n",
              "      <td>Sentinels</td>\n",
              "      <td>['Jett', 'Reyna', 'Raze']</td>\n",
              "      <td>9</td>\n",
              "      <td>206</td>\n",
              "      <td>139</td>\n",
              "      <td>55</td>\n",
              "      <td>1.48</td>\n",
              "      <td>1.87</td>\n",
              "      <td>289</td>\n",
              "      <td>22.8</td>\n",
              "      <td>15.4</td>\n",
              "      <td>6.1</td>\n",
              "    </tr>\n",
              "    <tr>\n",
              "      <th>1</th>\n",
              "      <td>ScreaM</td>\n",
              "      <td>Belgium</td>\n",
              "      <td>Team Liquid</td>\n",
              "      <td>['Sage', 'Phoenix']</td>\n",
              "      <td>9</td>\n",
              "      <td>177</td>\n",
              "      <td>131</td>\n",
              "      <td>56</td>\n",
              "      <td>1.35</td>\n",
              "      <td>1.77</td>\n",
              "      <td>265</td>\n",
              "      <td>19.6</td>\n",
              "      <td>14.5</td>\n",
              "      <td>6.2</td>\n",
              "    </tr>\n",
              "    <tr>\n",
              "      <th>7</th>\n",
              "      <td>Mistic</td>\n",
              "      <td>United Kingdom</td>\n",
              "      <td>Fnatic</td>\n",
              "      <td>['Viper', 'Skye']</td>\n",
              "      <td>16</td>\n",
              "      <td>240</td>\n",
              "      <td>206</td>\n",
              "      <td>120</td>\n",
              "      <td>1.16</td>\n",
              "      <td>1.74</td>\n",
              "      <td>191</td>\n",
              "      <td>15.0</td>\n",
              "      <td>12.8</td>\n",
              "      <td>7.5</td>\n",
              "    </tr>\n",
              "    <tr>\n",
              "      <th>2</th>\n",
              "      <td>ShahZaM</td>\n",
              "      <td>United States</td>\n",
              "      <td>Sentinels</td>\n",
              "      <td>['Sova', 'Jett']</td>\n",
              "      <td>9</td>\n",
              "      <td>172</td>\n",
              "      <td>134</td>\n",
              "      <td>52</td>\n",
              "      <td>1.28</td>\n",
              "      <td>1.67</td>\n",
              "      <td>240</td>\n",
              "      <td>19.1</td>\n",
              "      <td>14.8</td>\n",
              "      <td>5.7</td>\n",
              "    </tr>\n",
              "    <tr>\n",
              "      <th>3</th>\n",
              "      <td>L1NK</td>\n",
              "      <td>United Kingdom</td>\n",
              "      <td>Team Liquid</td>\n",
              "      <td>['Brimstone', 'Omen']</td>\n",
              "      <td>9</td>\n",
              "      <td>147</td>\n",
              "      <td>123</td>\n",
              "      <td>57</td>\n",
              "      <td>1.19</td>\n",
              "      <td>1.65</td>\n",
              "      <td>218</td>\n",
              "      <td>16.3</td>\n",
              "      <td>13.6</td>\n",
              "      <td>6.3</td>\n",
              "    </tr>\n",
              "  </tbody>\n",
              "</table>\n",
              "</div>"
            ],
            "text/plain": [
              "    Player         Country         Team  ... K/Map  D/Map  A/Map\n",
              "0     TenZ          Canada    Sentinels  ...  22.8   15.4    6.1\n",
              "1   ScreaM         Belgium  Team Liquid  ...  19.6   14.5    6.2\n",
              "7   Mistic  United Kingdom       Fnatic  ...  15.0   12.8    7.5\n",
              "2  ShahZaM   United States    Sentinels  ...  19.1   14.8    5.7\n",
              "3     L1NK  United Kingdom  Team Liquid  ...  16.3   13.6    6.3\n",
              "\n",
              "[5 rows x 14 columns]"
            ]
          },
          "metadata": {},
          "execution_count": 5
        }
      ]
    },
    {
      "cell_type": "code",
      "source": [
        "fig,ax = plt.subplots()\n",
        "fig.set_figheight(5)\n",
        "fig.set_figwidth(5)\n",
        "\n",
        "ax.set_xlim(0,2)\n",
        "plt.title(\"Most Valuable Players by KDA\")\n",
        "sns.barplot(x=\"Player\",y = \"KDA\",data=top_five, palette= \"ch:start=.2\")"
      ],
      "metadata": {
        "colab": {
          "base_uri": "https://localhost:8080/",
          "height": 367
        },
        "id": "-irj1k1-U9J_",
        "outputId": "3fcb5a8b-af48-4d22-b891-5e6c1a419772"
      },
      "execution_count": 6,
      "outputs": [
        {
          "output_type": "execute_result",
          "data": {
            "text/plain": [
              "<matplotlib.axes._subplots.AxesSubplot at 0x7fa1f2f46550>"
            ]
          },
          "metadata": {},
          "execution_count": 6
        },
        {
          "output_type": "display_data",
          "data": {
            "image/png": "[encoded data removed]",
            "text/plain": [
              "<Figure size 360x360 with 1 Axes>"
            ]
          },
          "metadata": {
            "needs_background": "light"
          }
        }
      ]
    },
    {
      "cell_type": "markdown",
      "source": [
        "# FIVE WORST PLAYER"
      ],
      "metadata": {
        "id": "XDeX41ivTrAL"
      }
    },
    {
      "cell_type": "code",
      "source": [
        "worst_player = df1.sort_values(by='KDA', ascending=True).head()\n",
        "worst_player"
      ],
      "metadata": {
        "colab": {
          "base_uri": "https://localhost:8080/",
          "height": 206
        },
        "id": "ckuYozZHTvWZ",
        "outputId": "cd99b662-b4f7-46a9-f84e-fe175cd7ab5d"
      },
      "execution_count": 7,
      "outputs": [
        {
          "output_type": "execute_result",
          "data": {
            "text/html": [
              "<div>\n",
              "<style scoped>\n",
              "    .dataframe tbody tr th:only-of-type {\n",
              "        vertical-align: middle;\n",
              "    }\n",
              "\n",
              "    .dataframe tbody tr th {\n",
              "        vertical-align: top;\n",
              "    }\n",
              "\n",
              "    .dataframe thead th {\n",
              "        text-align: right;\n",
              "    }\n",
              "</style>\n",
              "<table border=\"1\" class=\"dataframe\">\n",
              "  <thead>\n",
              "    <tr style=\"text-align: right;\">\n",
              "      <th></th>\n",
              "      <th>Player</th>\n",
              "      <th>Country</th>\n",
              "      <th>Team</th>\n",
              "      <th>Agents</th>\n",
              "      <th>Maps</th>\n",
              "      <th>K</th>\n",
              "      <th>D</th>\n",
              "      <th>A</th>\n",
              "      <th>KD</th>\n",
              "      <th>KDA</th>\n",
              "      <th>ACS/Map</th>\n",
              "      <th>K/Map</th>\n",
              "      <th>D/Map</th>\n",
              "      <th>A/Map</th>\n",
              "    </tr>\n",
              "  </thead>\n",
              "  <tbody>\n",
              "    <tr>\n",
              "      <th>49</th>\n",
              "      <td>Fra</td>\n",
              "      <td>Brazil</td>\n",
              "      <td>Sharks Esports</td>\n",
              "      <td>['Killjoy', 'Skye', 'Sage']</td>\n",
              "      <td>5</td>\n",
              "      <td>35</td>\n",
              "      <td>69</td>\n",
              "      <td>17</td>\n",
              "      <td>0.50</td>\n",
              "      <td>0.75</td>\n",
              "      <td>122</td>\n",
              "      <td>7.0</td>\n",
              "      <td>13.8</td>\n",
              "      <td>3.4</td>\n",
              "    </tr>\n",
              "    <tr>\n",
              "      <th>48</th>\n",
              "      <td>Light</td>\n",
              "      <td>Brazil</td>\n",
              "      <td>Sharks Esports</td>\n",
              "      <td>['Omen', 'Brimstone']</td>\n",
              "      <td>5</td>\n",
              "      <td>35</td>\n",
              "      <td>67</td>\n",
              "      <td>22</td>\n",
              "      <td>0.52</td>\n",
              "      <td>0.85</td>\n",
              "      <td>125</td>\n",
              "      <td>7.0</td>\n",
              "      <td>13.4</td>\n",
              "      <td>4.4</td>\n",
              "    </tr>\n",
              "    <tr>\n",
              "      <th>47</th>\n",
              "      <td>GtnziN</td>\n",
              "      <td>Brazil</td>\n",
              "      <td>Team Vikings</td>\n",
              "      <td>['Raze', 'Yoru']</td>\n",
              "      <td>6</td>\n",
              "      <td>60</td>\n",
              "      <td>96</td>\n",
              "      <td>28</td>\n",
              "      <td>0.62</td>\n",
              "      <td>0.91</td>\n",
              "      <td>141</td>\n",
              "      <td>10.0</td>\n",
              "      <td>16.0</td>\n",
              "      <td>4.6</td>\n",
              "    </tr>\n",
              "    <tr>\n",
              "      <th>45</th>\n",
              "      <td>Rion</td>\n",
              "      <td>Japan</td>\n",
              "      <td>Crazy Raccoon</td>\n",
              "      <td>['Astra', 'Viper', 'Omen']</td>\n",
              "      <td>4</td>\n",
              "      <td>46</td>\n",
              "      <td>67</td>\n",
              "      <td>16</td>\n",
              "      <td>0.68</td>\n",
              "      <td>0.92</td>\n",
              "      <td>148</td>\n",
              "      <td>11.5</td>\n",
              "      <td>16.7</td>\n",
              "      <td>4.0</td>\n",
              "    </tr>\n",
              "    <tr>\n",
              "      <th>38</th>\n",
              "      <td>NagZ</td>\n",
              "      <td>Chile</td>\n",
              "      <td>KRÜ Esports</td>\n",
              "      <td>['Jett', 'Sage']</td>\n",
              "      <td>6</td>\n",
              "      <td>67</td>\n",
              "      <td>81</td>\n",
              "      <td>13</td>\n",
              "      <td>0.82</td>\n",
              "      <td>0.98</td>\n",
              "      <td>169</td>\n",
              "      <td>11.1</td>\n",
              "      <td>13.5</td>\n",
              "      <td>2.1</td>\n",
              "    </tr>\n",
              "  </tbody>\n",
              "</table>\n",
              "</div>"
            ],
            "text/plain": [
              "    Player Country            Team  ... K/Map  D/Map  A/Map\n",
              "49     Fra  Brazil  Sharks Esports  ...   7.0   13.8    3.4\n",
              "48   Light  Brazil  Sharks Esports  ...   7.0   13.4    4.4\n",
              "47  GtnziN  Brazil    Team Vikings  ...  10.0   16.0    4.6\n",
              "45    Rion   Japan   Crazy Raccoon  ...  11.5   16.7    4.0\n",
              "38    NagZ   Chile     KRÜ Esports  ...  11.1   13.5    2.1\n",
              "\n",
              "[5 rows x 14 columns]"
            ]
          },
          "metadata": {},
          "execution_count": 7
        }
      ]
    },
    {
      "cell_type": "code",
      "source": [
        "fig,ax = plt.subplots()\n",
        "fig.set_figheight(5)\n",
        "fig.set_figwidth(5)\n",
        "\n",
        "ax.set_xlim(0,2)\n",
        "plt.title(\"Worst Players by KDA\")\n",
        "sns.barplot(x=\"Player\",y = \"KDA\", data = worst_player)"
      ],
      "metadata": {
        "colab": {
          "base_uri": "https://localhost:8080/",
          "height": 367
        },
        "id": "599AlgZDVUMJ",
        "outputId": "03a21b11-e34d-4fff-b9b7-bd3c0b76dd17"
      },
      "execution_count": 8,
      "outputs": [
        {
          "output_type": "execute_result",
          "data": {
            "text/plain": [
              "<matplotlib.axes._subplots.AxesSubplot at 0x7fa1f2eb5e90>"
            ]
          },
          "metadata": {},
          "execution_count": 8
        },
        {
          "output_type": "display_data",
          "data": {
            "image/png": "[encoded data removed]",
            "text/plain": [
              "<Figure size 360x360 with 1 Axes>"
            ]
          },
          "metadata": {
            "needs_background": "light"
          }
        }
      ]
    },
    {
      "cell_type": "markdown",
      "source": [
        "# Top Assist"
      ],
      "metadata": {
        "id": "EXuYDqKPau9E"
      }
    },
    {
      "cell_type": "code",
      "source": [
        "top_assist = df1.sort_values(by='A/Map', ascending=False).head()\n",
        "top_assist"
      ],
      "metadata": {
        "colab": {
          "base_uri": "https://localhost:8080/",
          "height": 206
        },
        "id": "8Z9DUN__asI5",
        "outputId": "976fa03b-d092-4a79-8a90-6c8d7962efb4"
      },
      "execution_count": 26,
      "outputs": [
        {
          "output_type": "execute_result",
          "data": {
            "text/html": [
              "<div>\n",
              "<style scoped>\n",
              "    .dataframe tbody tr th:only-of-type {\n",
              "        vertical-align: middle;\n",
              "    }\n",
              "\n",
              "    .dataframe tbody tr th {\n",
              "        vertical-align: top;\n",
              "    }\n",
              "\n",
              "    .dataframe thead th {\n",
              "        text-align: right;\n",
              "    }\n",
              "</style>\n",
              "<table border=\"1\" class=\"dataframe\">\n",
              "  <thead>\n",
              "    <tr style=\"text-align: right;\">\n",
              "      <th></th>\n",
              "      <th>Player</th>\n",
              "      <th>Country</th>\n",
              "      <th>Team</th>\n",
              "      <th>Agents</th>\n",
              "      <th>Maps</th>\n",
              "      <th>K</th>\n",
              "      <th>D</th>\n",
              "      <th>A</th>\n",
              "      <th>KD</th>\n",
              "      <th>KDA</th>\n",
              "      <th>ACS/Map</th>\n",
              "      <th>K/Map</th>\n",
              "      <th>D/Map</th>\n",
              "      <th>A/Map</th>\n",
              "    </tr>\n",
              "  </thead>\n",
              "  <tbody>\n",
              "    <tr>\n",
              "      <th>18</th>\n",
              "      <td>Dapr</td>\n",
              "      <td>United States</td>\n",
              "      <td>Sentinels</td>\n",
              "      <td>['Cypher', 'Viper', 'Sage']</td>\n",
              "      <td>9</td>\n",
              "      <td>127</td>\n",
              "      <td>123</td>\n",
              "      <td>73</td>\n",
              "      <td>1.03</td>\n",
              "      <td>1.62</td>\n",
              "      <td>184</td>\n",
              "      <td>14.1</td>\n",
              "      <td>13.6</td>\n",
              "      <td>8.1</td>\n",
              "    </tr>\n",
              "    <tr>\n",
              "      <th>25</th>\n",
              "      <td>Mazino</td>\n",
              "      <td>Chile</td>\n",
              "      <td>KRÜ Esports</td>\n",
              "      <td>['Viper', 'Sage']</td>\n",
              "      <td>6</td>\n",
              "      <td>78</td>\n",
              "      <td>80</td>\n",
              "      <td>46</td>\n",
              "      <td>0.97</td>\n",
              "      <td>1.55</td>\n",
              "      <td>213</td>\n",
              "      <td>13.0</td>\n",
              "      <td>13.3</td>\n",
              "      <td>7.6</td>\n",
              "    </tr>\n",
              "    <tr>\n",
              "      <th>7</th>\n",
              "      <td>Mistic</td>\n",
              "      <td>United Kingdom</td>\n",
              "      <td>Fnatic</td>\n",
              "      <td>['Viper', 'Skye']</td>\n",
              "      <td>16</td>\n",
              "      <td>240</td>\n",
              "      <td>206</td>\n",
              "      <td>120</td>\n",
              "      <td>1.16</td>\n",
              "      <td>1.74</td>\n",
              "      <td>191</td>\n",
              "      <td>15.0</td>\n",
              "      <td>12.8</td>\n",
              "      <td>7.5</td>\n",
              "    </tr>\n",
              "    <tr>\n",
              "      <th>19</th>\n",
              "      <td>Doma</td>\n",
              "      <td>Croatia</td>\n",
              "      <td>Fnatic</td>\n",
              "      <td>['Sage', 'Omen', 'Raze']</td>\n",
              "      <td>16</td>\n",
              "      <td>247</td>\n",
              "      <td>241</td>\n",
              "      <td>120</td>\n",
              "      <td>1.02</td>\n",
              "      <td>1.52</td>\n",
              "      <td>205</td>\n",
              "      <td>15.4</td>\n",
              "      <td>15.0</td>\n",
              "      <td>7.5</td>\n",
              "    </tr>\n",
              "    <tr>\n",
              "      <th>30</th>\n",
              "      <td>Zombs</td>\n",
              "      <td>United States</td>\n",
              "      <td>Sentinels</td>\n",
              "      <td>['Astra', 'Viper']</td>\n",
              "      <td>9</td>\n",
              "      <td>121</td>\n",
              "      <td>133</td>\n",
              "      <td>67</td>\n",
              "      <td>0.90</td>\n",
              "      <td>1.41</td>\n",
              "      <td>170</td>\n",
              "      <td>13.4</td>\n",
              "      <td>14.7</td>\n",
              "      <td>7.4</td>\n",
              "    </tr>\n",
              "  </tbody>\n",
              "</table>\n",
              "</div>"
            ],
            "text/plain": [
              "    Player         Country         Team  ... K/Map  D/Map  A/Map\n",
              "18    Dapr   United States    Sentinels  ...  14.1   13.6    8.1\n",
              "25  Mazino           Chile  KRÜ Esports  ...  13.0   13.3    7.6\n",
              "7   Mistic  United Kingdom       Fnatic  ...  15.0   12.8    7.5\n",
              "19    Doma         Croatia       Fnatic  ...  15.4   15.0    7.5\n",
              "30   Zombs   United States    Sentinels  ...  13.4   14.7    7.4\n",
              "\n",
              "[5 rows x 14 columns]"
            ]
          },
          "metadata": {},
          "execution_count": 26
        }
      ]
    },
    {
      "cell_type": "code",
      "source": [
        "fig,ax = plt.subplots()\n",
        "fig.set_figheight(5)\n",
        "fig.set_figwidth(5)\n",
        "\n",
        "ax.set_xlim(0,2)\n",
        "plt.title(\"Top Assist\")\n",
        "sns.barplot(x=\"Player\",y = \"A/Map\", data = top_assist)"
      ],
      "metadata": {
        "colab": {
          "base_uri": "https://localhost:8080/",
          "height": 367
        },
        "id": "1nNM0hB8bSJX",
        "outputId": "606be51e-2400-4c75-c3c4-5f6c5e276c93"
      },
      "execution_count": 28,
      "outputs": [
        {
          "output_type": "execute_result",
          "data": {
            "text/plain": [
              "<matplotlib.axes._subplots.AxesSubplot at 0x7fa1ed048dd0>"
            ]
          },
          "metadata": {},
          "execution_count": 28
        },
        {
          "output_type": "display_data",
          "data": {
            "image/png": "[encoded data removed]",
            "text/plain": [
              "<Figure size 360x360 with 1 Axes>"
            ]
          },
          "metadata": {
            "needs_background": "light"
          }
        }
      ]
    }
  ]
}